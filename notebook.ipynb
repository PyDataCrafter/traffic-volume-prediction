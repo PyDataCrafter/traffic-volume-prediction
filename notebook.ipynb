{
 "cells": [
  {
   "cell_type": "markdown",
   "id": "8b752817-8333-446e-9790-73d85b0aa14f",
   "metadata": {},
   "source": [
    "![Traffic](traffic.png)\n",
    "\n",
    "Traffic data fluctuates constantly or is affected by time. Predicting it can be challenging, but this task will help sharpen your time-series skills. With deep learning, you can use abstract patterns in data that can help boost predictability.\n",
    "\n",
    "Your task is to build a system that can be applied to help you predict traffic volume or the number of vehicles passing at a specific point and time. Determining this can help reduce road congestion, support new designs for roads or intersections, improve safety, and more! Or, you can use to help plan your commute to avoid traffic!\n",
    "\n",
    "The dataset provided contains the hourly traffic volume on an interstate highway in Minnesota, USA. It also includes weather features and holidays, which often impact traffic volume.\n",
    "\n",
    "Time to predict some traffic!\n",
    "\n",
    "### The data:\n",
    "\n",
    "The dataset is collected and maintained by UCI Machine Learning Repository. The target variable is `traffic_volume`. The dataset contains the following and has already been normalized and saved into training and test sets:\n",
    "\n",
    "`train_scaled.csv`, `test_scaled.csv`\n",
    "| Column     | Type       | Description              |\n",
    "|------------|------------|--------------------------|\n",
    "|`temp`                   |Numeric            |Average temp in kelvin|\n",
    "|`rain_1h`                |Numeric            |Amount in mm of rain that occurred in the hour|\n",
    "|`snow_1h`                |Numeric            |Amount in mm of snow that occurred in the hour|\n",
    "|`clouds_all`             |Numeric            |Percentage of cloud cover|\n",
    "|`date_time`              |DateTime           |Hour of the data collected in local CST time|\n",
    "|`holiday_` (11 columns)  |Categorical        |US National holidays plus regional holiday, Minnesota State Fair|\n",
    "|`weather_main_` (11 columns)|Categorical     |Short textual description of the current weather|\n",
    "|`weather_description_` (35 columns)|Categorical|Longer textual description of the current weather|\n",
    "|`traffic_volume`         |Numeric            |Hourly I-94 ATR 301 reported westbound traffic volume|\n",
    "|`hour_of_day`|Numeric|The hour of the day|\n",
    "|`day_of_week`|Numeric|The day of the week (0=Monday, Sunday=6)|\n",
    "|`day_of_month`|Numeric|The day of the month|\n",
    "|`month`|Numeric|The number of the month|\n",
    "|`traffic_volume`         |Numeric            |Hourly I-94 ATR 301 reported westbound traffic volume|"
   ]
  },
  {
   "cell_type": "code",
   "execution_count": 86,
   "id": "d2e54daa-828a-420a-a204-f855de2ae375",
   "metadata": {
    "executionCancelledAt": null,
    "executionTime": 13,
    "lastExecutedAt": 1747503421127,
    "lastExecutedByKernel": "4e46b27b-3b9c-4804-8d7f-cb08f54e42c6",
    "lastScheduledRunId": null,
    "lastSuccessfullyExecutedCode": "# Import the relevant libraries\nimport numpy as np\nimport pandas as pd\n\nimport torch\nimport torch.nn as nn\nimport torch.nn.functional as F\nimport torch.optim as optim\nfrom torch.utils.data import TensorDataset, DataLoader\n\nimport torchmetrics",
    "outputsMetadata": {
     "0": {
      "height": 223,
      "type": "dataFrame"
     },
     "1": {
      "height": 222,
      "type": "dataFrame"
     }
    }
   },
   "outputs": [],
   "source": [
    "# Import the relevant libraries\n",
    "import numpy as np\n",
    "import pandas as pd\n",
    "\n",
    "import torch\n",
    "import torch.nn as nn\n",
    "import torch.nn.functional as F\n",
    "import torch.optim as optim\n",
    "from torch.utils.data import TensorDataset, DataLoader\n",
    "\n",
    "import torchmetrics"
   ]
  },
  {
   "cell_type": "code",
   "execution_count": 87,
   "id": "58e3a3b9-9367-43e7-b13b-1f111447478e",
   "metadata": {
    "executionCancelledAt": null,
    "executionTime": 143,
    "lastExecutedAt": 1747503421270,
    "lastExecutedByKernel": "4e46b27b-3b9c-4804-8d7f-cb08f54e42c6",
    "lastScheduledRunId": null,
    "lastSuccessfullyExecutedCode": "# Read the traffic data from the CSV training and test files\ntrain_scaled_df = pd.read_csv('./data/train_scaled.csv') # 85%\ntest_scaled_df = pd.read_csv('./data/test_scaled.csv') # 15%\n\n# Convert the DataFrame to NumPy arrays\ntrain_scaled = train_scaled_df.to_numpy()\ntest_scaled = test_scaled_df.to_numpy()\nprint('train_scaled shape:', train_scaled.shape, '\\ntest_scaled shape:', test_scaled.shape, )",
    "outputsMetadata": {
     "0": {
      "height": 59,
      "type": "stream"
     }
    }
   },
   "outputs": [
    {
     "name": "stdout",
     "output_type": "stream",
     "text": [
      "train_scaled shape: (34042, 66) \n",
      "test_scaled shape: (6533, 66)\n"
     ]
    }
   ],
   "source": [
    "# Read the traffic data from the CSV training and test files\n",
    "train_scaled_df = pd.read_csv('train_scaled.csv') # 85%\n",
    "test_scaled_df = pd.read_csv('test_scaled.csv') # 15%\n",
    "\n",
    "# Convert the DataFrame to NumPy arrays\n",
    "train_scaled = train_scaled_df.to_numpy()\n",
    "test_scaled = test_scaled_df.to_numpy()\n",
    "print('train_scaled shape:', train_scaled.shape, '\\ntest_scaled shape:', test_scaled.shape, )"
   ]
  },
  {
   "cell_type": "code",
   "execution_count": 88,
   "id": "d29357d1-6cbb-4c86-ba49-ea31f6d8415e",
   "metadata": {
    "executionCancelledAt": null,
    "executionTime": 216,
    "lastExecutedAt": 1747503421486,
    "lastExecutedByKernel": "4e46b27b-3b9c-4804-8d7f-cb08f54e42c6",
    "lastScheduledRunId": null,
    "lastSuccessfullyExecutedCode": "train_scaled_df.describe()",
    "outputsMetadata": {
     "0": {
      "chartState": {
       "chartModel": {
        "cellRange": {
         "columns": [],
         "rowEndIndex": null,
         "rowEndPinned": null,
         "rowStartIndex": null,
         "rowStartPinned": null
        },
        "chartId": "id-r5yj6sw2e1",
        "chartOptions": {
         "common": {
          "animation": {
           "enabled": true
          }
         }
        },
        "chartPalette": {
         "altDown": {
          "fill": "#ffa03a",
          "stroke": "#cc6f10"
         },
         "altNeutral": {
          "fill": "#b5b5b5",
          "stroke": "#575757"
         },
         "altUp": {
          "fill": "#5090dc",
          "stroke": "#2b5c95"
         },
         "down": {
          "fill": "#ef5452",
          "stroke": "#a82529"
         },
         "fills": [
          "#6568A0",
          "#43D7A4",
          "#4095DB",
          "#FACC5F",
          "#CAE279",
          "#F08083",
          "#5BCDF2",
          "#F099DC",
          "#965858",
          "#7DB64F",
          "#A98954"
         ],
         "neutral": {
          "fill": "#b5b5b5",
          "stroke": "#575757"
         },
         "strokes": [
          "#6568A0",
          "#43D7A4",
          "#4095DB",
          "#FACC5F",
          "#CAE279",
          "#F08083",
          "#5BCDF2",
          "#F099DC",
          "#965858",
          "#7DB64F",
          "#A98954"
         ],
         "up": {
          "fill": "#459d55",
          "stroke": "#1e652e"
         }
        },
        "chartThemeName": "datalabTheme",
        "chartType": "groupedColumn",
        "modelType": "range",
        "suppressChartRanges": false,
        "switchCategorySeries": false,
        "unlinkChart": false,
        "version": "32.2.2"
       },
       "rangeChartModel": {
        "rangeColumns": [],
        "switchCategorySeries": false
       }
      },
      "height": 550,
      "tableState": {},
      "type": "dataFrame"
     }
    },
    "version": "ag-charts-v1",
    "visualizeDataframe": false
   },
   "outputs": [
    {
     "data": {
      "application/com.datacamp.data-table.v2+json": {
       "table": {
        "data": {
         "clouds_all": [
          34042,
          0.4506641795,
          0.386630553,
          0,
          0.01,
          0.4,
          0.9,
          1
         ],
         "day_of_month": [
          34042,
          0.4890635098,
          0.2920531961,
          0,
          0.2333333333,
          0.5,
          0.7333333333,
          1
         ],
         "day_of_week": [
          34042,
          0.5014198147,
          0.3331025629,
          0,
          0.1666666667,
          0.5,
          0.8333333333,
          1
         ],
         "holiday_Christmas Day": [
          34042,
          0.0001468774,
          0.0121185861,
          0,
          0,
          0,
          0,
          1
         ],
         "holiday_Columbus Day": [
          34042,
          0.0001468774,
          0.0121185861,
          0,
          0,
          0,
          0,
          1
         ],
         "holiday_Independence Day": [
          34042,
          0.0001175019,
          0.0108393521,
          0,
          0,
          0,
          0,
          1
         ],
         "holiday_Labor Day": [
          34042,
          0.0001175019,
          0.0108393521,
          0,
          0,
          0,
          0,
          1
         ],
         "holiday_Martin Luther King Jr Day": [
          34042,
          0.000058751,
          0.0076648046,
          0,
          0,
          0,
          0,
          1
         ],
         "holiday_Memorial Day": [
          34042,
          0.0001175019,
          0.0108393521,
          0,
          0,
          0,
          0,
          1
         ],
         "holiday_New Years Day": [
          34042,
          0.0001175019,
          0.0108393521,
          0,
          0,
          0,
          0,
          1
         ],
         "holiday_State Fair": [
          34042,
          0.0001175019,
          0.0108393521,
          0,
          0,
          0,
          0,
          1
         ],
         "holiday_Thanksgiving Day": [
          34042,
          0.0001468774,
          0.0121185861,
          0,
          0,
          0,
          0,
          1
         ],
         "holiday_Veterans Day": [
          34042,
          0.0001468774,
          0.0121185861,
          0,
          0,
          0,
          0,
          1
         ],
         "holiday_Washingtons Birthday": [
          34042,
          0.0001175019,
          0.0108393521,
          0,
          0,
          0,
          0,
          1
         ],
         "hour_of_day": [
          34042,
          0.5005785692,
          0.3024280644,
          0,
          0.2173913043,
          0.5217391304,
          0.7826086957,
          1
         ],
         "index": [
          "count",
          "mean",
          "std",
          "min",
          "25%",
          "50%",
          "75%",
          "max"
         ],
         "month": [
          34042,
          0.52461665,
          0.3122342417,
          0,
          0.2727272727,
          0.5454545455,
          0.8181818182,
          1
         ],
         "rain_1h": [
          34042,
          0.0000373471,
          0.0054205146,
          0,
          0,
          0,
          0,
          1
         ],
         "snow_1h": [
          34042,
          0.0002741711,
          0.0121503502,
          0,
          0,
          0,
          0,
          1
         ],
         "temp": [
          34042,
          0.9116607796,
          0.0445843408,
          0,
          0.8819750843,
          0.915812354,
          0.9463648456,
          1
         ],
         "traffic_volume": [
          34042,
          0.4511358948,
          0.2728963249,
          0,
          0.170467033,
          0.4682005495,
          0.6802197802,
          1
         ],
         "weather_description_SQUALLS": [
          34042,
          0.0001175019,
          0.0108393521,
          0,
          0,
          0,
          0,
          1
         ],
         "weather_description_Sky is Clear": [
          34042,
          0.0502614417,
          0.2184871427,
          0,
          0,
          0,
          0,
          1
         ],
         "weather_description_broken clouds": [
          34042,
          0.117413783,
          0.3219174285,
          0,
          0,
          0,
          0,
          1
         ],
         "weather_description_drizzle": [
          34042,
          0.012308325,
          0.1102596357,
          0,
          0,
          0,
          0,
          1
         ],
         "weather_description_few clouds": [
          34042,
          0.0504964456,
          0.2189702332,
          0,
          0,
          0,
          0,
          1
         ],
         "weather_description_fog": [
          34042,
          0.0141883556,
          0.11826858,
          0,
          0,
          0,
          0,
          1
         ],
         "weather_description_haze": [
          34042,
          0.0217672287,
          0.145924782,
          0,
          0,
          0,
          0,
          1
         ],
         "weather_description_heavy intensity drizzle": [
          34042,
          0.0010868927,
          0.0329506179,
          0,
          0,
          0,
          0,
          1
         ],
         "weather_description_heavy intensity rain": [
          34042,
          0.0033194289,
          0.0575196273,
          0,
          0,
          0,
          0,
          1
         ],
         "weather_description_heavy snow": [
          34042,
          0.0089888961,
          0.0943840956,
          0,
          0,
          0,
          0,
          1
         ],
         "weather_description_light intensity drizzle": [
          34042,
          0.0185653017,
          0.1349858012,
          0,
          0,
          0,
          0,
          1
         ],
         "weather_description_light intensity shower rain": [
          34042,
          0.0001468774,
          0.0121185861,
          0,
          0,
          0,
          0,
          1
         ],
         "weather_description_light rain": [
          34042,
          0.0546383879,
          0.2272763776,
          0,
          0,
          0,
          0,
          1
         ],
         "weather_description_light rain and snow": [
          34042,
          0.0000293755,
          0.0054199149,
          0,
          0,
          0,
          0,
          1
         ],
         "weather_description_light shower snow": [
          34042,
          0.0001762529,
          0.0132750509,
          0,
          0,
          0,
          0,
          1
         ],
         "weather_description_light snow": [
          34042,
          0.0305504964,
          0.1720989066,
          0,
          0,
          0,
          0,
          1
         ],
         "weather_description_mist": [
          34042,
          0.0870689149,
          0.2819401603,
          0,
          0,
          0,
          0,
          1
         ],
         "weather_description_moderate rain": [
          34042,
          0.0196228189,
          0.1387023035,
          0,
          0,
          0,
          0,
          1
         ],
         "weather_description_overcast clouds": [
          34042,
          0.1327771576,
          0.3393387196,
          0,
          0,
          0,
          0,
          1
         ],
         "weather_description_proximity shower rain": [
          34042,
          0.001351272,
          0.0367353462,
          0,
          0,
          0,
          0,
          1
         ],
         "weather_description_proximity thunderstorm": [
          34042,
          0.0086363903,
          0.092531371,
          0,
          0,
          0,
          0,
          1
         ],
         "weather_description_proximity thunderstorm with drizzle": [
          34042,
          0.0002350038,
          0.015328258,
          0,
          0,
          0,
          0,
          1
         ],
         "weather_description_proximity thunderstorm with rain": [
          34042,
          0.0009987662,
          0.0315879408,
          0,
          0,
          0,
          0,
          1
         ],
         "weather_description_scattered clouds": [
          34042,
          0.0848363786,
          0.2786421508,
          0,
          0,
          0,
          0,
          1
         ],
         "weather_description_shower drizzle": [
          34042,
          0.0000293755,
          0.0054199149,
          0,
          0,
          0,
          0,
          1
         ],
         "weather_description_shower snow": [
          34042,
          0.0000293755,
          0.0054199149,
          0,
          0,
          0,
          0,
          1
         ],
         "weather_description_sky is clear": [
          34042,
          0.2740732037,
          0.446052606,
          0,
          0,
          0,
          1,
          1
         ],
         "weather_description_smoke": [
          34042,
          0.0000293755,
          0.0054199149,
          0,
          0,
          0,
          0,
          1
         ],
         "weather_description_snow": [
          34042,
          0.0024381646,
          0.0493182666,
          0,
          0,
          0,
          0,
          1
         ],
         "weather_description_thunderstorm": [
          34042,
          0.0016744022,
          0.0408857884,
          0,
          0,
          0,
          0,
          1
         ],
         "weather_description_thunderstorm with heavy rain": [
          34042,
          0.0007637624,
          0.0276261017,
          0,
          0,
          0,
          0,
          1
         ],
         "weather_description_thunderstorm with light drizzle": [
          34042,
          0.0001468774,
          0.0121185861,
          0,
          0,
          0,
          0,
          1
         ],
         "weather_description_thunderstorm with light rain": [
          34042,
          0.0005875095,
          0.0242318309,
          0,
          0,
          0,
          0,
          1
         ],
         "weather_description_thunderstorm with rain": [
          34042,
          0.0004112567,
          0.0202755919,
          0,
          0,
          0,
          0,
          1
         ],
         "weather_description_very heavy rain": [
          34042,
          0.0002350038,
          0.015328258,
          0,
          0,
          0,
          0,
          1
         ],
         "weather_main_Clear": [
          34042,
          0.3243346454,
          0.4681325889,
          0,
          0,
          0,
          1,
          1
         ],
         "weather_main_Clouds": [
          34042,
          0.3855237648,
          0.4867259503,
          0,
          0,
          0,
          1,
          1
         ],
         "weather_main_Drizzle": [
          34042,
          0.0319898948,
          0.1759757118,
          0,
          0,
          0,
          0,
          1
         ],
         "weather_main_Fog": [
          34042,
          0.0141883556,
          0.11826858,
          0,
          0,
          0,
          0,
          1
         ],
         "weather_main_Haze": [
          34042,
          0.0217672287,
          0.145924782,
          0,
          0,
          0,
          0,
          1
         ],
         "weather_main_Mist": [
          34042,
          0.0870689149,
          0.2819401603,
          0,
          0,
          0,
          0,
          1
         ],
         "weather_main_Rain": [
          34042,
          0.0793137888,
          0.2702318577,
          0,
          0,
          0,
          0,
          1
         ],
         "weather_main_Smoke": [
          34042,
          0.0000293755,
          0.0054199149,
          0,
          0,
          0,
          0,
          1
         ],
         "weather_main_Snow": [
          34042,
          0.042212561,
          0.2010767226,
          0,
          0,
          0,
          0,
          1
         ],
         "weather_main_Squall": [
          34042,
          0.0001175019,
          0.0108393521,
          0,
          0,
          0,
          0,
          1
         ],
         "weather_main_Thunderstorm": [
          34042,
          0.0134539686,
          0.1152100224,
          0,
          0,
          0,
          0,
          1
         ]
        },
        "schema": {
         "fields": [
          {
           "name": "index",
           "type": "string"
          },
          {
           "name": "temp",
           "type": "number"
          },
          {
           "name": "rain_1h",
           "type": "number"
          },
          {
           "name": "snow_1h",
           "type": "number"
          },
          {
           "name": "clouds_all",
           "type": "number"
          },
          {
           "name": "holiday_Christmas Day",
           "type": "number"
          },
          {
           "name": "holiday_Columbus Day",
           "type": "number"
          },
          {
           "name": "holiday_Independence Day",
           "type": "number"
          },
          {
           "name": "holiday_Labor Day",
           "type": "number"
          },
          {
           "name": "holiday_Martin Luther King Jr Day",
           "type": "number"
          },
          {
           "name": "holiday_Memorial Day",
           "type": "number"
          },
          {
           "name": "holiday_New Years Day",
           "type": "number"
          },
          {
           "name": "holiday_State Fair",
           "type": "number"
          },
          {
           "name": "holiday_Thanksgiving Day",
           "type": "number"
          },
          {
           "name": "holiday_Veterans Day",
           "type": "number"
          },
          {
           "name": "holiday_Washingtons Birthday",
           "type": "number"
          },
          {
           "name": "weather_main_Clear",
           "type": "number"
          },
          {
           "name": "weather_main_Clouds",
           "type": "number"
          },
          {
           "name": "weather_main_Drizzle",
           "type": "number"
          },
          {
           "name": "weather_main_Fog",
           "type": "number"
          },
          {
           "name": "weather_main_Haze",
           "type": "number"
          },
          {
           "name": "weather_main_Mist",
           "type": "number"
          },
          {
           "name": "weather_main_Rain",
           "type": "number"
          },
          {
           "name": "weather_main_Smoke",
           "type": "number"
          },
          {
           "name": "weather_main_Snow",
           "type": "number"
          },
          {
           "name": "weather_main_Squall",
           "type": "number"
          },
          {
           "name": "weather_main_Thunderstorm",
           "type": "number"
          },
          {
           "name": "weather_description_SQUALLS",
           "type": "number"
          },
          {
           "name": "weather_description_Sky is Clear",
           "type": "number"
          },
          {
           "name": "weather_description_broken clouds",
           "type": "number"
          },
          {
           "name": "weather_description_drizzle",
           "type": "number"
          },
          {
           "name": "weather_description_few clouds",
           "type": "number"
          },
          {
           "name": "weather_description_fog",
           "type": "number"
          },
          {
           "name": "weather_description_haze",
           "type": "number"
          },
          {
           "name": "weather_description_heavy intensity drizzle",
           "type": "number"
          },
          {
           "name": "weather_description_heavy intensity rain",
           "type": "number"
          },
          {
           "name": "weather_description_heavy snow",
           "type": "number"
          },
          {
           "name": "weather_description_light intensity drizzle",
           "type": "number"
          },
          {
           "name": "weather_description_light intensity shower rain",
           "type": "number"
          },
          {
           "name": "weather_description_light rain",
           "type": "number"
          },
          {
           "name": "weather_description_light rain and snow",
           "type": "number"
          },
          {
           "name": "weather_description_light shower snow",
           "type": "number"
          },
          {
           "name": "weather_description_light snow",
           "type": "number"
          },
          {
           "name": "weather_description_mist",
           "type": "number"
          },
          {
           "name": "weather_description_moderate rain",
           "type": "number"
          },
          {
           "name": "weather_description_overcast clouds",
           "type": "number"
          },
          {
           "name": "weather_description_proximity shower rain",
           "type": "number"
          },
          {
           "name": "weather_description_proximity thunderstorm",
           "type": "number"
          },
          {
           "name": "weather_description_proximity thunderstorm with drizzle",
           "type": "number"
          },
          {
           "name": "weather_description_proximity thunderstorm with rain",
           "type": "number"
          },
          {
           "name": "weather_description_scattered clouds",
           "type": "number"
          },
          {
           "name": "weather_description_shower drizzle",
           "type": "number"
          },
          {
           "name": "weather_description_shower snow",
           "type": "number"
          },
          {
           "name": "weather_description_sky is clear",
           "type": "number"
          },
          {
           "name": "weather_description_smoke",
           "type": "number"
          },
          {
           "name": "weather_description_snow",
           "type": "number"
          },
          {
           "name": "weather_description_thunderstorm",
           "type": "number"
          },
          {
           "name": "weather_description_thunderstorm with heavy rain",
           "type": "number"
          },
          {
           "name": "weather_description_thunderstorm with light drizzle",
           "type": "number"
          },
          {
           "name": "weather_description_thunderstorm with light rain",
           "type": "number"
          },
          {
           "name": "weather_description_thunderstorm with rain",
           "type": "number"
          },
          {
           "name": "weather_description_very heavy rain",
           "type": "number"
          },
          {
           "name": "hour_of_day",
           "type": "number"
          },
          {
           "name": "day_of_week",
           "type": "number"
          },
          {
           "name": "day_of_month",
           "type": "number"
          },
          {
           "name": "month",
           "type": "number"
          },
          {
           "name": "traffic_volume",
           "type": "number"
          }
         ],
         "pandas_version": "1.4.0",
         "primaryKey": [
          "index"
         ]
        }
       },
       "total_rows": 8,
       "truncation_type": null
      },
      "text/html": [
       "<div>\n",
       "<style scoped>\n",
       "    .dataframe tbody tr th:only-of-type {\n",
       "        vertical-align: middle;\n",
       "    }\n",
       "\n",
       "    .dataframe tbody tr th {\n",
       "        vertical-align: top;\n",
       "    }\n",
       "\n",
       "    .dataframe thead th {\n",
       "        text-align: right;\n",
       "    }\n",
       "</style>\n",
       "<table border=\"1\" class=\"dataframe\">\n",
       "  <thead>\n",
       "    <tr style=\"text-align: right;\">\n",
       "      <th></th>\n",
       "      <th>temp</th>\n",
       "      <th>rain_1h</th>\n",
       "      <th>snow_1h</th>\n",
       "      <th>clouds_all</th>\n",
       "      <th>holiday_Christmas Day</th>\n",
       "      <th>holiday_Columbus Day</th>\n",
       "      <th>holiday_Independence Day</th>\n",
       "      <th>holiday_Labor Day</th>\n",
       "      <th>holiday_Martin Luther King Jr Day</th>\n",
       "      <th>holiday_Memorial Day</th>\n",
       "      <th>holiday_New Years Day</th>\n",
       "      <th>holiday_State Fair</th>\n",
       "      <th>holiday_Thanksgiving Day</th>\n",
       "      <th>holiday_Veterans Day</th>\n",
       "      <th>holiday_Washingtons Birthday</th>\n",
       "      <th>weather_main_Clear</th>\n",
       "      <th>weather_main_Clouds</th>\n",
       "      <th>weather_main_Drizzle</th>\n",
       "      <th>weather_main_Fog</th>\n",
       "      <th>weather_main_Haze</th>\n",
       "      <th>weather_main_Mist</th>\n",
       "      <th>weather_main_Rain</th>\n",
       "      <th>weather_main_Smoke</th>\n",
       "      <th>weather_main_Snow</th>\n",
       "      <th>weather_main_Squall</th>\n",
       "      <th>weather_main_Thunderstorm</th>\n",
       "      <th>weather_description_SQUALLS</th>\n",
       "      <th>weather_description_Sky is Clear</th>\n",
       "      <th>weather_description_broken clouds</th>\n",
       "      <th>weather_description_drizzle</th>\n",
       "      <th>weather_description_few clouds</th>\n",
       "      <th>weather_description_fog</th>\n",
       "      <th>weather_description_haze</th>\n",
       "      <th>weather_description_heavy intensity drizzle</th>\n",
       "      <th>weather_description_heavy intensity rain</th>\n",
       "      <th>weather_description_heavy snow</th>\n",
       "      <th>weather_description_light intensity drizzle</th>\n",
       "      <th>weather_description_light intensity shower rain</th>\n",
       "      <th>weather_description_light rain</th>\n",
       "      <th>weather_description_light rain and snow</th>\n",
       "      <th>weather_description_light shower snow</th>\n",
       "      <th>weather_description_light snow</th>\n",
       "      <th>weather_description_mist</th>\n",
       "      <th>weather_description_moderate rain</th>\n",
       "      <th>weather_description_overcast clouds</th>\n",
       "      <th>weather_description_proximity shower rain</th>\n",
       "      <th>weather_description_proximity thunderstorm</th>\n",
       "      <th>weather_description_proximity thunderstorm with drizzle</th>\n",
       "      <th>weather_description_proximity thunderstorm with rain</th>\n",
       "      <th>weather_description_scattered clouds</th>\n",
       "      <th>weather_description_shower drizzle</th>\n",
       "      <th>weather_description_shower snow</th>\n",
       "      <th>weather_description_sky is clear</th>\n",
       "      <th>weather_description_smoke</th>\n",
       "      <th>weather_description_snow</th>\n",
       "      <th>weather_description_thunderstorm</th>\n",
       "      <th>weather_description_thunderstorm with heavy rain</th>\n",
       "      <th>weather_description_thunderstorm with light drizzle</th>\n",
       "      <th>weather_description_thunderstorm with light rain</th>\n",
       "      <th>weather_description_thunderstorm with rain</th>\n",
       "      <th>weather_description_very heavy rain</th>\n",
       "      <th>hour_of_day</th>\n",
       "      <th>day_of_week</th>\n",
       "      <th>day_of_month</th>\n",
       "      <th>month</th>\n",
       "      <th>traffic_volume</th>\n",
       "    </tr>\n",
       "  </thead>\n",
       "  <tbody>\n",
       "    <tr>\n",
       "      <th>count</th>\n",
       "      <td>34042.000000</td>\n",
       "      <td>34042.000000</td>\n",
       "      <td>34042.000000</td>\n",
       "      <td>34042.000000</td>\n",
       "      <td>34042.000000</td>\n",
       "      <td>34042.000000</td>\n",
       "      <td>34042.000000</td>\n",
       "      <td>34042.000000</td>\n",
       "      <td>34042.000000</td>\n",
       "      <td>34042.000000</td>\n",
       "      <td>34042.000000</td>\n",
       "      <td>34042.000000</td>\n",
       "      <td>34042.000000</td>\n",
       "      <td>34042.000000</td>\n",
       "      <td>34042.000000</td>\n",
       "      <td>34042.000000</td>\n",
       "      <td>34042.000000</td>\n",
       "      <td>34042.000000</td>\n",
       "      <td>34042.000000</td>\n",
       "      <td>34042.000000</td>\n",
       "      <td>34042.000000</td>\n",
       "      <td>34042.000000</td>\n",
       "      <td>34042.000000</td>\n",
       "      <td>34042.000000</td>\n",
       "      <td>34042.000000</td>\n",
       "      <td>34042.000000</td>\n",
       "      <td>34042.000000</td>\n",
       "      <td>34042.000000</td>\n",
       "      <td>34042.000000</td>\n",
       "      <td>34042.000000</td>\n",
       "      <td>34042.000000</td>\n",
       "      <td>34042.000000</td>\n",
       "      <td>34042.000000</td>\n",
       "      <td>34042.000000</td>\n",
       "      <td>34042.000000</td>\n",
       "      <td>34042.000000</td>\n",
       "      <td>34042.000000</td>\n",
       "      <td>34042.000000</td>\n",
       "      <td>34042.000000</td>\n",
       "      <td>34042.000000</td>\n",
       "      <td>34042.000000</td>\n",
       "      <td>34042.000000</td>\n",
       "      <td>34042.000000</td>\n",
       "      <td>34042.000000</td>\n",
       "      <td>34042.000000</td>\n",
       "      <td>34042.000000</td>\n",
       "      <td>34042.000000</td>\n",
       "      <td>34042.000000</td>\n",
       "      <td>34042.000000</td>\n",
       "      <td>34042.000000</td>\n",
       "      <td>34042.000000</td>\n",
       "      <td>34042.000000</td>\n",
       "      <td>34042.000000</td>\n",
       "      <td>34042.000000</td>\n",
       "      <td>34042.000000</td>\n",
       "      <td>34042.000000</td>\n",
       "      <td>34042.000000</td>\n",
       "      <td>34042.000000</td>\n",
       "      <td>34042.000000</td>\n",
       "      <td>34042.000000</td>\n",
       "      <td>34042.000000</td>\n",
       "      <td>34042.000000</td>\n",
       "      <td>34042.000000</td>\n",
       "      <td>34042.000000</td>\n",
       "      <td>34042.000000</td>\n",
       "      <td>34042.000000</td>\n",
       "    </tr>\n",
       "    <tr>\n",
       "      <th>mean</th>\n",
       "      <td>0.911661</td>\n",
       "      <td>0.000037</td>\n",
       "      <td>0.000274</td>\n",
       "      <td>0.450664</td>\n",
       "      <td>0.000147</td>\n",
       "      <td>0.000147</td>\n",
       "      <td>0.000118</td>\n",
       "      <td>0.000118</td>\n",
       "      <td>0.000059</td>\n",
       "      <td>0.000118</td>\n",
       "      <td>0.000118</td>\n",
       "      <td>0.000118</td>\n",
       "      <td>0.000147</td>\n",
       "      <td>0.000147</td>\n",
       "      <td>0.000118</td>\n",
       "      <td>0.324335</td>\n",
       "      <td>0.385524</td>\n",
       "      <td>0.031990</td>\n",
       "      <td>0.014188</td>\n",
       "      <td>0.021767</td>\n",
       "      <td>0.087069</td>\n",
       "      <td>0.079314</td>\n",
       "      <td>0.000029</td>\n",
       "      <td>0.042213</td>\n",
       "      <td>0.000118</td>\n",
       "      <td>0.013454</td>\n",
       "      <td>0.000118</td>\n",
       "      <td>0.050261</td>\n",
       "      <td>0.117414</td>\n",
       "      <td>0.012308</td>\n",
       "      <td>0.050496</td>\n",
       "      <td>0.014188</td>\n",
       "      <td>0.021767</td>\n",
       "      <td>0.001087</td>\n",
       "      <td>0.003319</td>\n",
       "      <td>0.008989</td>\n",
       "      <td>0.018565</td>\n",
       "      <td>0.000147</td>\n",
       "      <td>0.054638</td>\n",
       "      <td>0.000029</td>\n",
       "      <td>0.000176</td>\n",
       "      <td>0.030550</td>\n",
       "      <td>0.087069</td>\n",
       "      <td>0.019623</td>\n",
       "      <td>0.132777</td>\n",
       "      <td>0.001351</td>\n",
       "      <td>0.008636</td>\n",
       "      <td>0.000235</td>\n",
       "      <td>0.000999</td>\n",
       "      <td>0.084836</td>\n",
       "      <td>0.000029</td>\n",
       "      <td>0.000029</td>\n",
       "      <td>0.274073</td>\n",
       "      <td>0.000029</td>\n",
       "      <td>0.002438</td>\n",
       "      <td>0.001674</td>\n",
       "      <td>0.000764</td>\n",
       "      <td>0.000147</td>\n",
       "      <td>0.000588</td>\n",
       "      <td>0.000411</td>\n",
       "      <td>0.000235</td>\n",
       "      <td>0.500579</td>\n",
       "      <td>0.501420</td>\n",
       "      <td>0.489064</td>\n",
       "      <td>0.524617</td>\n",
       "      <td>0.451136</td>\n",
       "    </tr>\n",
       "    <tr>\n",
       "      <th>std</th>\n",
       "      <td>0.044584</td>\n",
       "      <td>0.005421</td>\n",
       "      <td>0.012150</td>\n",
       "      <td>0.386631</td>\n",
       "      <td>0.012119</td>\n",
       "      <td>0.012119</td>\n",
       "      <td>0.010839</td>\n",
       "      <td>0.010839</td>\n",
       "      <td>0.007665</td>\n",
       "      <td>0.010839</td>\n",
       "      <td>0.010839</td>\n",
       "      <td>0.010839</td>\n",
       "      <td>0.012119</td>\n",
       "      <td>0.012119</td>\n",
       "      <td>0.010839</td>\n",
       "      <td>0.468133</td>\n",
       "      <td>0.486726</td>\n",
       "      <td>0.175976</td>\n",
       "      <td>0.118269</td>\n",
       "      <td>0.145925</td>\n",
       "      <td>0.281940</td>\n",
       "      <td>0.270232</td>\n",
       "      <td>0.005420</td>\n",
       "      <td>0.201077</td>\n",
       "      <td>0.010839</td>\n",
       "      <td>0.115210</td>\n",
       "      <td>0.010839</td>\n",
       "      <td>0.218487</td>\n",
       "      <td>0.321917</td>\n",
       "      <td>0.110260</td>\n",
       "      <td>0.218970</td>\n",
       "      <td>0.118269</td>\n",
       "      <td>0.145925</td>\n",
       "      <td>0.032951</td>\n",
       "      <td>0.057520</td>\n",
       "      <td>0.094384</td>\n",
       "      <td>0.134986</td>\n",
       "      <td>0.012119</td>\n",
       "      <td>0.227276</td>\n",
       "      <td>0.005420</td>\n",
       "      <td>0.013275</td>\n",
       "      <td>0.172099</td>\n",
       "      <td>0.281940</td>\n",
       "      <td>0.138702</td>\n",
       "      <td>0.339339</td>\n",
       "      <td>0.036735</td>\n",
       "      <td>0.092531</td>\n",
       "      <td>0.015328</td>\n",
       "      <td>0.031588</td>\n",
       "      <td>0.278642</td>\n",
       "      <td>0.005420</td>\n",
       "      <td>0.005420</td>\n",
       "      <td>0.446053</td>\n",
       "      <td>0.005420</td>\n",
       "      <td>0.049318</td>\n",
       "      <td>0.040886</td>\n",
       "      <td>0.027626</td>\n",
       "      <td>0.012119</td>\n",
       "      <td>0.024232</td>\n",
       "      <td>0.020276</td>\n",
       "      <td>0.015328</td>\n",
       "      <td>0.302428</td>\n",
       "      <td>0.333103</td>\n",
       "      <td>0.292053</td>\n",
       "      <td>0.312234</td>\n",
       "      <td>0.272896</td>\n",
       "    </tr>\n",
       "    <tr>\n",
       "      <th>min</th>\n",
       "      <td>0.000000</td>\n",
       "      <td>0.000000</td>\n",
       "      <td>0.000000</td>\n",
       "      <td>0.000000</td>\n",
       "      <td>0.000000</td>\n",
       "      <td>0.000000</td>\n",
       "      <td>0.000000</td>\n",
       "      <td>0.000000</td>\n",
       "      <td>0.000000</td>\n",
       "      <td>0.000000</td>\n",
       "      <td>0.000000</td>\n",
       "      <td>0.000000</td>\n",
       "      <td>0.000000</td>\n",
       "      <td>0.000000</td>\n",
       "      <td>0.000000</td>\n",
       "      <td>0.000000</td>\n",
       "      <td>0.000000</td>\n",
       "      <td>0.000000</td>\n",
       "      <td>0.000000</td>\n",
       "      <td>0.000000</td>\n",
       "      <td>0.000000</td>\n",
       "      <td>0.000000</td>\n",
       "      <td>0.000000</td>\n",
       "      <td>0.000000</td>\n",
       "      <td>0.000000</td>\n",
       "      <td>0.000000</td>\n",
       "      <td>0.000000</td>\n",
       "      <td>0.000000</td>\n",
       "      <td>0.000000</td>\n",
       "      <td>0.000000</td>\n",
       "      <td>0.000000</td>\n",
       "      <td>0.000000</td>\n",
       "      <td>0.000000</td>\n",
       "      <td>0.000000</td>\n",
       "      <td>0.000000</td>\n",
       "      <td>0.000000</td>\n",
       "      <td>0.000000</td>\n",
       "      <td>0.000000</td>\n",
       "      <td>0.000000</td>\n",
       "      <td>0.000000</td>\n",
       "      <td>0.000000</td>\n",
       "      <td>0.000000</td>\n",
       "      <td>0.000000</td>\n",
       "      <td>0.000000</td>\n",
       "      <td>0.000000</td>\n",
       "      <td>0.000000</td>\n",
       "      <td>0.000000</td>\n",
       "      <td>0.000000</td>\n",
       "      <td>0.000000</td>\n",
       "      <td>0.000000</td>\n",
       "      <td>0.000000</td>\n",
       "      <td>0.000000</td>\n",
       "      <td>0.000000</td>\n",
       "      <td>0.000000</td>\n",
       "      <td>0.000000</td>\n",
       "      <td>0.000000</td>\n",
       "      <td>0.000000</td>\n",
       "      <td>0.000000</td>\n",
       "      <td>0.000000</td>\n",
       "      <td>0.000000</td>\n",
       "      <td>0.000000</td>\n",
       "      <td>0.000000</td>\n",
       "      <td>0.000000</td>\n",
       "      <td>0.000000</td>\n",
       "      <td>0.000000</td>\n",
       "      <td>0.000000</td>\n",
       "    </tr>\n",
       "    <tr>\n",
       "      <th>25%</th>\n",
       "      <td>0.881975</td>\n",
       "      <td>0.000000</td>\n",
       "      <td>0.000000</td>\n",
       "      <td>0.010000</td>\n",
       "      <td>0.000000</td>\n",
       "      <td>0.000000</td>\n",
       "      <td>0.000000</td>\n",
       "      <td>0.000000</td>\n",
       "      <td>0.000000</td>\n",
       "      <td>0.000000</td>\n",
       "      <td>0.000000</td>\n",
       "      <td>0.000000</td>\n",
       "      <td>0.000000</td>\n",
       "      <td>0.000000</td>\n",
       "      <td>0.000000</td>\n",
       "      <td>0.000000</td>\n",
       "      <td>0.000000</td>\n",
       "      <td>0.000000</td>\n",
       "      <td>0.000000</td>\n",
       "      <td>0.000000</td>\n",
       "      <td>0.000000</td>\n",
       "      <td>0.000000</td>\n",
       "      <td>0.000000</td>\n",
       "      <td>0.000000</td>\n",
       "      <td>0.000000</td>\n",
       "      <td>0.000000</td>\n",
       "      <td>0.000000</td>\n",
       "      <td>0.000000</td>\n",
       "      <td>0.000000</td>\n",
       "      <td>0.000000</td>\n",
       "      <td>0.000000</td>\n",
       "      <td>0.000000</td>\n",
       "      <td>0.000000</td>\n",
       "      <td>0.000000</td>\n",
       "      <td>0.000000</td>\n",
       "      <td>0.000000</td>\n",
       "      <td>0.000000</td>\n",
       "      <td>0.000000</td>\n",
       "      <td>0.000000</td>\n",
       "      <td>0.000000</td>\n",
       "      <td>0.000000</td>\n",
       "      <td>0.000000</td>\n",
       "      <td>0.000000</td>\n",
       "      <td>0.000000</td>\n",
       "      <td>0.000000</td>\n",
       "      <td>0.000000</td>\n",
       "      <td>0.000000</td>\n",
       "      <td>0.000000</td>\n",
       "      <td>0.000000</td>\n",
       "      <td>0.000000</td>\n",
       "      <td>0.000000</td>\n",
       "      <td>0.000000</td>\n",
       "      <td>0.000000</td>\n",
       "      <td>0.000000</td>\n",
       "      <td>0.000000</td>\n",
       "      <td>0.000000</td>\n",
       "      <td>0.000000</td>\n",
       "      <td>0.000000</td>\n",
       "      <td>0.000000</td>\n",
       "      <td>0.000000</td>\n",
       "      <td>0.000000</td>\n",
       "      <td>0.217391</td>\n",
       "      <td>0.166667</td>\n",
       "      <td>0.233333</td>\n",
       "      <td>0.272727</td>\n",
       "      <td>0.170467</td>\n",
       "    </tr>\n",
       "    <tr>\n",
       "      <th>50%</th>\n",
       "      <td>0.915812</td>\n",
       "      <td>0.000000</td>\n",
       "      <td>0.000000</td>\n",
       "      <td>0.400000</td>\n",
       "      <td>0.000000</td>\n",
       "      <td>0.000000</td>\n",
       "      <td>0.000000</td>\n",
       "      <td>0.000000</td>\n",
       "      <td>0.000000</td>\n",
       "      <td>0.000000</td>\n",
       "      <td>0.000000</td>\n",
       "      <td>0.000000</td>\n",
       "      <td>0.000000</td>\n",
       "      <td>0.000000</td>\n",
       "      <td>0.000000</td>\n",
       "      <td>0.000000</td>\n",
       "      <td>0.000000</td>\n",
       "      <td>0.000000</td>\n",
       "      <td>0.000000</td>\n",
       "      <td>0.000000</td>\n",
       "      <td>0.000000</td>\n",
       "      <td>0.000000</td>\n",
       "      <td>0.000000</td>\n",
       "      <td>0.000000</td>\n",
       "      <td>0.000000</td>\n",
       "      <td>0.000000</td>\n",
       "      <td>0.000000</td>\n",
       "      <td>0.000000</td>\n",
       "      <td>0.000000</td>\n",
       "      <td>0.000000</td>\n",
       "      <td>0.000000</td>\n",
       "      <td>0.000000</td>\n",
       "      <td>0.000000</td>\n",
       "      <td>0.000000</td>\n",
       "      <td>0.000000</td>\n",
       "      <td>0.000000</td>\n",
       "      <td>0.000000</td>\n",
       "      <td>0.000000</td>\n",
       "      <td>0.000000</td>\n",
       "      <td>0.000000</td>\n",
       "      <td>0.000000</td>\n",
       "      <td>0.000000</td>\n",
       "      <td>0.000000</td>\n",
       "      <td>0.000000</td>\n",
       "      <td>0.000000</td>\n",
       "      <td>0.000000</td>\n",
       "      <td>0.000000</td>\n",
       "      <td>0.000000</td>\n",
       "      <td>0.000000</td>\n",
       "      <td>0.000000</td>\n",
       "      <td>0.000000</td>\n",
       "      <td>0.000000</td>\n",
       "      <td>0.000000</td>\n",
       "      <td>0.000000</td>\n",
       "      <td>0.000000</td>\n",
       "      <td>0.000000</td>\n",
       "      <td>0.000000</td>\n",
       "      <td>0.000000</td>\n",
       "      <td>0.000000</td>\n",
       "      <td>0.000000</td>\n",
       "      <td>0.000000</td>\n",
       "      <td>0.521739</td>\n",
       "      <td>0.500000</td>\n",
       "      <td>0.500000</td>\n",
       "      <td>0.545455</td>\n",
       "      <td>0.468201</td>\n",
       "    </tr>\n",
       "    <tr>\n",
       "      <th>75%</th>\n",
       "      <td>0.946365</td>\n",
       "      <td>0.000000</td>\n",
       "      <td>0.000000</td>\n",
       "      <td>0.900000</td>\n",
       "      <td>0.000000</td>\n",
       "      <td>0.000000</td>\n",
       "      <td>0.000000</td>\n",
       "      <td>0.000000</td>\n",
       "      <td>0.000000</td>\n",
       "      <td>0.000000</td>\n",
       "      <td>0.000000</td>\n",
       "      <td>0.000000</td>\n",
       "      <td>0.000000</td>\n",
       "      <td>0.000000</td>\n",
       "      <td>0.000000</td>\n",
       "      <td>1.000000</td>\n",
       "      <td>1.000000</td>\n",
       "      <td>0.000000</td>\n",
       "      <td>0.000000</td>\n",
       "      <td>0.000000</td>\n",
       "      <td>0.000000</td>\n",
       "      <td>0.000000</td>\n",
       "      <td>0.000000</td>\n",
       "      <td>0.000000</td>\n",
       "      <td>0.000000</td>\n",
       "      <td>0.000000</td>\n",
       "      <td>0.000000</td>\n",
       "      <td>0.000000</td>\n",
       "      <td>0.000000</td>\n",
       "      <td>0.000000</td>\n",
       "      <td>0.000000</td>\n",
       "      <td>0.000000</td>\n",
       "      <td>0.000000</td>\n",
       "      <td>0.000000</td>\n",
       "      <td>0.000000</td>\n",
       "      <td>0.000000</td>\n",
       "      <td>0.000000</td>\n",
       "      <td>0.000000</td>\n",
       "      <td>0.000000</td>\n",
       "      <td>0.000000</td>\n",
       "      <td>0.000000</td>\n",
       "      <td>0.000000</td>\n",
       "      <td>0.000000</td>\n",
       "      <td>0.000000</td>\n",
       "      <td>0.000000</td>\n",
       "      <td>0.000000</td>\n",
       "      <td>0.000000</td>\n",
       "      <td>0.000000</td>\n",
       "      <td>0.000000</td>\n",
       "      <td>0.000000</td>\n",
       "      <td>0.000000</td>\n",
       "      <td>0.000000</td>\n",
       "      <td>1.000000</td>\n",
       "      <td>0.000000</td>\n",
       "      <td>0.000000</td>\n",
       "      <td>0.000000</td>\n",
       "      <td>0.000000</td>\n",
       "      <td>0.000000</td>\n",
       "      <td>0.000000</td>\n",
       "      <td>0.000000</td>\n",
       "      <td>0.000000</td>\n",
       "      <td>0.782609</td>\n",
       "      <td>0.833333</td>\n",
       "      <td>0.733333</td>\n",
       "      <td>0.818182</td>\n",
       "      <td>0.680220</td>\n",
       "    </tr>\n",
       "    <tr>\n",
       "      <th>max</th>\n",
       "      <td>1.000000</td>\n",
       "      <td>1.000000</td>\n",
       "      <td>1.000000</td>\n",
       "      <td>1.000000</td>\n",
       "      <td>1.000000</td>\n",
       "      <td>1.000000</td>\n",
       "      <td>1.000000</td>\n",
       "      <td>1.000000</td>\n",
       "      <td>1.000000</td>\n",
       "      <td>1.000000</td>\n",
       "      <td>1.000000</td>\n",
       "      <td>1.000000</td>\n",
       "      <td>1.000000</td>\n",
       "      <td>1.000000</td>\n",
       "      <td>1.000000</td>\n",
       "      <td>1.000000</td>\n",
       "      <td>1.000000</td>\n",
       "      <td>1.000000</td>\n",
       "      <td>1.000000</td>\n",
       "      <td>1.000000</td>\n",
       "      <td>1.000000</td>\n",
       "      <td>1.000000</td>\n",
       "      <td>1.000000</td>\n",
       "      <td>1.000000</td>\n",
       "      <td>1.000000</td>\n",
       "      <td>1.000000</td>\n",
       "      <td>1.000000</td>\n",
       "      <td>1.000000</td>\n",
       "      <td>1.000000</td>\n",
       "      <td>1.000000</td>\n",
       "      <td>1.000000</td>\n",
       "      <td>1.000000</td>\n",
       "      <td>1.000000</td>\n",
       "      <td>1.000000</td>\n",
       "      <td>1.000000</td>\n",
       "      <td>1.000000</td>\n",
       "      <td>1.000000</td>\n",
       "      <td>1.000000</td>\n",
       "      <td>1.000000</td>\n",
       "      <td>1.000000</td>\n",
       "      <td>1.000000</td>\n",
       "      <td>1.000000</td>\n",
       "      <td>1.000000</td>\n",
       "      <td>1.000000</td>\n",
       "      <td>1.000000</td>\n",
       "      <td>1.000000</td>\n",
       "      <td>1.000000</td>\n",
       "      <td>1.000000</td>\n",
       "      <td>1.000000</td>\n",
       "      <td>1.000000</td>\n",
       "      <td>1.000000</td>\n",
       "      <td>1.000000</td>\n",
       "      <td>1.000000</td>\n",
       "      <td>1.000000</td>\n",
       "      <td>1.000000</td>\n",
       "      <td>1.000000</td>\n",
       "      <td>1.000000</td>\n",
       "      <td>1.000000</td>\n",
       "      <td>1.000000</td>\n",
       "      <td>1.000000</td>\n",
       "      <td>1.000000</td>\n",
       "      <td>1.000000</td>\n",
       "      <td>1.000000</td>\n",
       "      <td>1.000000</td>\n",
       "      <td>1.000000</td>\n",
       "      <td>1.000000</td>\n",
       "    </tr>\n",
       "  </tbody>\n",
       "</table>\n",
       "</div>"
      ],
      "text/plain": [
       "               temp       rain_1h  ...         month  traffic_volume\n",
       "count  34042.000000  34042.000000  ...  34042.000000    34042.000000\n",
       "mean       0.911661      0.000037  ...      0.524617        0.451136\n",
       "std        0.044584      0.005421  ...      0.312234        0.272896\n",
       "min        0.000000      0.000000  ...      0.000000        0.000000\n",
       "25%        0.881975      0.000000  ...      0.272727        0.170467\n",
       "50%        0.915812      0.000000  ...      0.545455        0.468201\n",
       "75%        0.946365      0.000000  ...      0.818182        0.680220\n",
       "max        1.000000      1.000000  ...      1.000000        1.000000\n",
       "\n",
       "[8 rows x 66 columns]"
      ]
     },
     "execution_count": 88,
     "metadata": {
      "application/com.datacamp.data-table.v2+json": {
       "status": "success"
      }
     },
     "output_type": "execute_result"
    }
   ],
   "source": [
    "train_scaled_df.describe()"
   ]
  },
  {
   "cell_type": "code",
   "execution_count": 89,
   "id": "c296ebe7-547f-46c6-92c6-32ba2d5ad0f1",
   "metadata": {
    "executionCancelledAt": null,
    "executionTime": 58,
    "lastExecutedAt": 1747503421544,
    "lastExecutedByKernel": "4e46b27b-3b9c-4804-8d7f-cb08f54e42c6",
    "lastScheduledRunId": null,
    "lastSuccessfullyExecutedCode": "X_train, y_train = train_scaled[:, :-1] , train_scaled[:, -1]\nX_test, y_test = test_scaled[:, :-1] , test_scaled[:, -1]\nprint(\"Train:\", X_train.shape , y_train.shape, \"\\nTest:\",X_test.shape , y_test.shape)\n\n# Converting them into Torch Datasets\ndataset_train = TensorDataset(torch.from_numpy(X_train).float(), torch.from_numpy(y_train).float() )\ndataset_test = TensorDataset(torch.from_numpy(X_test).float(), torch.from_numpy(y_test).float() )\n\ndataloader_train = DataLoader(dataset_train, shuffle=False, batch_size=32)\ndataloader_test = DataLoader(dataset_test, shuffle=False, batch_size=32)\nprint(type(dataloader_train))",
    "outputsMetadata": {
     "0": {
      "height": 80,
      "type": "stream"
     }
    }
   },
   "outputs": [
    {
     "name": "stdout",
     "output_type": "stream",
     "text": [
      "Train: (34042, 65) (34042,) \n",
      "Test: (6533, 65) (6533,)\n",
      "<class 'torch.utils.data.dataloader.DataLoader'>\n"
     ]
    }
   ],
   "source": [
    "X_train, y_train = train_scaled[:, :-1] , train_scaled[:, -1]\n",
    "X_test, y_test = test_scaled[:, :-1] , test_scaled[:, -1]\n",
    "print(\"Train:\", X_train.shape , y_train.shape, \"\\nTest:\",X_test.shape , y_test.shape)\n",
    "\n",
    "# Converting them into Torch Datasets\n",
    "dataset_train = TensorDataset(torch.from_numpy(X_train).float(), torch.from_numpy(y_train).float() )\n",
    "dataset_test = TensorDataset(torch.from_numpy(X_test).float(), torch.from_numpy(y_test).float() )\n",
    "\n",
    "dataloader_train = DataLoader(dataset_train, shuffle=False, batch_size=32)\n",
    "dataloader_test = DataLoader(dataset_test, shuffle=False, batch_size=32)\n",
    "print(type(dataloader_train))"
   ]
  },
  {
   "cell_type": "code",
   "execution_count": 90,
   "id": "cdff3d43-574c-447b-8879-21aa94ab7a01",
   "metadata": {
    "executionCancelledAt": null,
    "executionTime": 56,
    "lastExecutedAt": 1747503421600,
    "lastExecutedByKernel": "4e46b27b-3b9c-4804-8d7f-cb08f54e42c6",
    "lastScheduledRunId": null,
    "lastSuccessfullyExecutedCode": "class Net(nn.Module):\n    def __init__(self, input_size):\n        super().__init__()\n        self.lstm = nn.LSTM(\n            input_size=1\n            ,hidden_size=32\n            ,num_layers=2\n            ,batch_first=True\n        )\n        self.fc = nn.Linear(32,1)\n\n    def forward(self, x):\n        h0 = torch.zeros(2, x.size(0), 32)\n        c0 = torch.zeros(2, x.size(0), 32)\n        out, _ = self.lstm(x, (h0, c0))\n        out = self.fc(out[:, -1, :])\n        return out",
    "outputsMetadata": {
     "0": {
      "height": 59,
      "type": "stream"
     }
    }
   },
   "outputs": [],
   "source": [
    "class Net(nn.Module):\n",
    "    def __init__(self, input_size):\n",
    "        super().__init__()\n",
    "        self.lstm = nn.LSTM(\n",
    "            input_size=1\n",
    "            ,hidden_size=32\n",
    "            ,num_layers=2\n",
    "            ,batch_first=True\n",
    "        )\n",
    "        self.fc = nn.Linear(32,1)\n",
    "\n",
    "    def forward(self, x):\n",
    "        h0 = torch.zeros(2, x.size(0), 32)\n",
    "        c0 = torch.zeros(2, x.size(0), 32)\n",
    "        out, _ = self.lstm(x, (h0, c0))\n",
    "        out = self.fc(out[:, -1, :])\n",
    "        return out"
   ]
  },
  {
   "cell_type": "code",
   "execution_count": null,
   "id": "076b8efb-4038-4b73-91e5-561b4dece2db",
   "metadata": {
    "executionCancelledAt": null,
    "executionTime": 123380,
    "lastExecutedAt": 1747503544980,
    "lastExecutedByKernel": "4e46b27b-3b9c-4804-8d7f-cb08f54e42c6",
    "lastScheduledRunId": null,
    "lastSuccessfullyExecutedCode": "traffic_model = Net(input_size=32)\n# Set up MSE loss\ncriterion = nn.MSELoss()\noptimizer = optim.Adam(\n  net.parameters(), lr=0.0001\n)\n\nnum_epochs = 1\n\nfor epoch in range(num_epochs):\n    for seqs, labels in dataloader_train:\n        # Reshape model inputs\n        seqs = seqs.view(seqs.shape[0] , seqs.shape[1], 1)\n        # Get model outputs\n        outputs = traffic_model(seqs)\n        # Compute loss\n        loss = criterion(outputs, labels)\n        optimizer.zero_grad()\n        loss.backward()\n        optimizer.step()\n    final_training_loss = loss.item()\n    print(f\"Epoch {epoch+1}, Loss: {final_training_loss}\")",
    "outputsMetadata": {
     "0": {
      "height": 38,
      "type": "stream"
     }
    }
   },
   "outputs": [
    {
     "name": "stdout",
     "output_type": "stream",
     "text": [
      "Epoch 1, Loss: 0.048480525612831116\n"
     ]
    }
   ],
   "source": [
    "traffic_model = Net(input_size=32)\n",
    "# Set up MSE loss\n",
    "criterion = nn.MSELoss()\n",
    "optimizer = optim.Adam(\n",
    "  traffic_model.parameters(), lr=0.0001\n",
    ")\n",
    "\n",
    "num_epochs = 1\n",
    "\n",
    "for epoch in range(num_epochs):\n",
    "    for seqs, labels in dataloader_train:\n",
    "        # Reshape model inputs\n",
    "        seqs = seqs.view(seqs.shape[0] , seqs.shape[1], 1)\n",
    "        # Get model outputs\n",
    "        outputs = traffic_model(seqs)\n",
    "        # Compute loss\n",
    "        loss = criterion(outputs, labels)\n",
    "        optimizer.zero_grad()\n",
    "        loss.backward()\n",
    "        optimizer.step()\n",
    "    final_training_loss = loss.item()\n",
    "    print(f\"Epoch {epoch+1}, Loss: {final_training_loss}\")"
   ]
  },
  {
   "cell_type": "code",
   "execution_count": 92,
   "id": "52a39984-3fc2-47de-87af-b9341cd8f49f",
   "metadata": {
    "executionCancelledAt": null,
    "executionTime": 5661,
    "lastExecutedAt": 1747503550642,
    "lastExecutedByKernel": "4e46b27b-3b9c-4804-8d7f-cb08f54e42c6",
    "lastScheduledRunId": null,
    "lastSuccessfullyExecutedCode": "mse = torchmetrics.MeanSquaredError()\n\ntraffic_model.eval()\n\nwith torch.no_grad():\n    for seqs, labels in dataloader_test:\n        seqs = seqs.view(seqs.shape[0] , seqs.shape[1], 1)\n        outputs = traffic_model(seqs).squeeze()\n        mse(outputs, labels)\ntest_mse = mse.compute()\ntest_mse = torch.tensor(test_mse, dtype=torch.float32)\nprint(f\"Test MSE: {test_mse}\")"
   },
   "outputs": [
    {
     "name": "stdout",
     "output_type": "stream",
     "text": [
      "Test MSE: 0.1662399023771286\n"
     ]
    }
   ],
   "source": [
    "mse = torchmetrics.MeanSquaredError()\n",
    "\n",
    "traffic_model.eval()\n",
    "\n",
    "with torch.no_grad():\n",
    "    for seqs, labels in dataloader_test:\n",
    "        seqs = seqs.view(seqs.shape[0] , seqs.shape[1], 1)\n",
    "        outputs = traffic_model(seqs).squeeze()\n",
    "        mse(outputs, labels)\n",
    "test_mse = mse.compute()\n",
    "test_mse = torch.tensor(test_mse, dtype=torch.float32)\n",
    "print(f\"Test MSE: {test_mse}\")"
   ]
  }
 ],
 "metadata": {
  "colab": {
   "name": "Welcome to DataCamp Workspaces.ipynb",
   "provenance": []
  },
  "editor": "DataLab",
  "kernelspec": {
   "display_name": "Python 3 (ipykernel)",
   "language": "python",
   "name": "python3"
  },
  "language_info": {
   "codemirror_mode": {
    "name": "ipython",
    "version": 3
   },
   "file_extension": ".py",
   "mimetype": "text/x-python",
   "name": "python",
   "nbconvert_exporter": "python",
   "pygments_lexer": "ipython3",
   "version": "3.8.10"
  }
 },
 "nbformat": 4,
 "nbformat_minor": 5
}
